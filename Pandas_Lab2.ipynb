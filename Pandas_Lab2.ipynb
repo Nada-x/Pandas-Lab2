{
 "cells": [
  {
   "cell_type": "markdown",
   "id": "9a74bc80",
   "metadata": {},
   "source": [
    "# Q1: Import pandas library"
   ]
  },
  {
   "cell_type": "code",
   "execution_count": 5,
   "id": "3d77e070",
   "metadata": {},
   "outputs": [],
   "source": [
    "import pandas as pd"
   ]
  },
  {
   "cell_type": "markdown",
   "id": "11029d8d",
   "metadata": {},
   "source": [
    "# Q2: Read instagram_users.csv file"
   ]
  },
  {
   "cell_type": "code",
   "execution_count": 6,
   "id": "416acbaa",
   "metadata": {},
   "outputs": [
    {
     "name": "stdout",
     "output_type": "stream",
     "text": [
      "        pos   flw   flg   bl  pic  lin   cl        cz     ni        erl   erc  \\\n",
      "0        44    48   325   33    1    0   12  0.000000  0.000   0.000000  0.00   \n",
      "1        10    66   321  150    1    0  213  0.000000  1.000  14.390000  1.97   \n",
      "2        33   970   308  101    1    1  436  0.000000  1.000  10.100000  0.30   \n",
      "3        70    86   360   14    1    0    0  1.000000  0.000   0.780000  0.06   \n",
      "4         3    21   285   73    1    0   93  0.000000  0.000  14.290000  0.00   \n",
      "...     ...   ...   ...  ...  ...  ...  ...       ...    ...        ...   ...   \n",
      "65321    13   145   642    0    1    0    7  0.461538  0.000  14.270000  0.58   \n",
      "65322   652  3000  1300  146    1    1  384  0.000000  0.389   8.520000  0.13   \n",
      "65323  1500  3700  3200  147    1    1  129  0.000000  0.111   9.390000  0.31   \n",
      "65324   329  1500  1800  218    1    1  290  0.055556  0.000   6.350000  0.26   \n",
      "65325   206   659   608   27    1    0   77  0.000000  0.333  25.549999  0.53   \n",
      "\n",
      "          lt     hc   pr     fo        cs           pi class  \n",
      "0      0.000  0.000  0.0  0.000  0.111111     0.094985     f  \n",
      "1      0.000  1.500  0.0  0.000  0.206826   230.412857     f  \n",
      "2      0.000  2.500  0.0  0.056  0.572174    43.569939     f  \n",
      "3      0.000  0.000  0.0  0.000  1.000000     5.859799     f  \n",
      "4      0.667  0.000  0.0  0.000  0.300494     0.126019     f  \n",
      "...      ...    ...  ...    ...       ...          ...   ...  \n",
      "65321  0.000  0.077  0.0  0.000  0.192308  1745.291260     r  \n",
      "65322  0.000  1.611  0.0  0.000  0.169917    54.629120     r  \n",
      "65323  0.722  0.000  0.0  0.056  0.058908   129.802048     r  \n",
      "65324  0.222  0.500  0.0  0.000  0.103174    53.402840     r  \n",
      "65325  0.222  0.222  0.0  0.167  0.017505   604.981445     r  \n",
      "\n",
      "[65326 rows x 18 columns]\n"
     ]
    }
   ],
   "source": [
    "df = pd.read_csv('instagram_users.csv')\n",
    "print(df)"
   ]
  },
  {
   "cell_type": "markdown",
   "id": "e4a55d46",
   "metadata": {},
   "source": [
    "# Q3: Print the number of rows and columns contained in the dataset"
   ]
  },
  {
   "cell_type": "code",
   "execution_count": 28,
   "id": "f8052b2d",
   "metadata": {},
   "outputs": [
    {
     "name": "stdout",
     "output_type": "stream",
     "text": [
      "Number of rows: 65326\n",
      "Number of columns: 18\n"
     ]
    }
   ],
   "source": [
    "num_rows, num_cols = df.shape\n",
    "\n",
    "print(\"Number of rows:\", num_rows)\n",
    "print(\"Number of columns:\", num_cols)"
   ]
  },
  {
   "cell_type": "markdown",
   "id": "321e2cf3",
   "metadata": {},
   "source": [
    "# Q4: Print the size of dataset"
   ]
  },
  {
   "cell_type": "code",
   "execution_count": 30,
   "id": "94a2f530",
   "metadata": {},
   "outputs": [
    {
     "name": "stdout",
     "output_type": "stream",
     "text": [
      "Dataset size: 1175868\n"
     ]
    }
   ],
   "source": [
    "\n",
    "dataset_size = df.size\n",
    "\n",
    "print(\"Dataset size:\", dataset_size)"
   ]
  },
  {
   "cell_type": "markdown",
   "id": "b522cc01",
   "metadata": {},
   "source": [
    "# Q5: Print the data type of each column"
   ]
  },
  {
   "cell_type": "code",
   "execution_count": 34,
   "id": "5e42df5a",
   "metadata": {},
   "outputs": [
    {
     "ename": "IndentationError",
     "evalue": "unexpected indent (3384548818.py, line 3)",
     "output_type": "error",
     "traceback": [
      "\u001b[0;36m  Cell \u001b[0;32mIn[34], line 3\u001b[0;36m\u001b[0m\n\u001b[0;31m    for column, dtype in column_data_types.iteritems():\u001b[0m\n\u001b[0m    ^\u001b[0m\n\u001b[0;31mIndentationError\u001b[0m\u001b[0;31m:\u001b[0m unexpected indent\n"
     ]
    }
   ],
   "source": [
    "column_data_types = df.dtypes\n",
    "\n",
    "for column, dtype in column_data_types.iteritems():\n",
    "print(f\"Column '{column}' has data type: {dtype}\")"
   ]
  },
  {
   "cell_type": "markdown",
   "id": "ce0bd348",
   "metadata": {},
   "source": [
    "# Q6: Print the entire dataset\n",
    "Note: if your dataset contains more than 60 rows, only the first 5 rows and the last 5 rows will be printed."
   ]
  },
  {
   "cell_type": "code",
   "execution_count": 14,
   "id": "2651fc51",
   "metadata": {},
   "outputs": [
    {
     "name": "stdout",
     "output_type": "stream",
     "text": [
      "        pos   flw   flg   bl  pic  lin   cl        cz     ni        erl   erc  \\\n",
      "0        44    48   325   33    1    0   12  0.000000  0.000   0.000000  0.00   \n",
      "1        10    66   321  150    1    0  213  0.000000  1.000  14.390000  1.97   \n",
      "2        33   970   308  101    1    1  436  0.000000  1.000  10.100000  0.30   \n",
      "3        70    86   360   14    1    0    0  1.000000  0.000   0.780000  0.06   \n",
      "4         3    21   285   73    1    0   93  0.000000  0.000  14.290000  0.00   \n",
      "...     ...   ...   ...  ...  ...  ...  ...       ...    ...        ...   ...   \n",
      "65321    13   145   642    0    1    0    7  0.461538  0.000  14.270000  0.58   \n",
      "65322   652  3000  1300  146    1    1  384  0.000000  0.389   8.520000  0.13   \n",
      "65323  1500  3700  3200  147    1    1  129  0.000000  0.111   9.390000  0.31   \n",
      "65324   329  1500  1800  218    1    1  290  0.055556  0.000   6.350000  0.26   \n",
      "65325   206   659   608   27    1    0   77  0.000000  0.333  25.549999  0.53   \n",
      "\n",
      "          lt     hc   pr     fo        cs           pi class  \n",
      "0      0.000  0.000  0.0  0.000  0.111111     0.094985     f  \n",
      "1      0.000  1.500  0.0  0.000  0.206826   230.412857     f  \n",
      "2      0.000  2.500  0.0  0.056  0.572174    43.569939     f  \n",
      "3      0.000  0.000  0.0  0.000  1.000000     5.859799     f  \n",
      "4      0.667  0.000  0.0  0.000  0.300494     0.126019     f  \n",
      "...      ...    ...  ...    ...       ...          ...   ...  \n",
      "65321  0.000  0.077  0.0  0.000  0.192308  1745.291260     r  \n",
      "65322  0.000  1.611  0.0  0.000  0.169917    54.629120     r  \n",
      "65323  0.722  0.000  0.0  0.056  0.058908   129.802048     r  \n",
      "65324  0.222  0.500  0.0  0.000  0.103174    53.402840     r  \n",
      "65325  0.222  0.222  0.0  0.167  0.017505   604.981445     r  \n",
      "\n",
      "[65326 rows x 18 columns]\n"
     ]
    }
   ],
   "source": [
    "df = pd.read_csv('instagram_users.csv')\n",
    "print(df)"
   ]
  },
  {
   "cell_type": "markdown",
   "id": "0467233d",
   "metadata": {},
   "source": [
    "# Q7: Print the first 5 rows"
   ]
  },
  {
   "cell_type": "code",
   "execution_count": 35,
   "id": "d74487c7",
   "metadata": {},
   "outputs": [
    {
     "name": "stdout",
     "output_type": "stream",
     "text": [
      "   pos  flw  flg   bl  pic  lin   cl   cz   ni    erl   erc     lt   hc   pr  \\\n",
      "0   44   48  325   33    1    0   12  0.0  0.0   0.00  0.00  0.000  0.0  0.0   \n",
      "1   10   66  321  150    1    0  213  0.0  1.0  14.39  1.97  0.000  1.5  0.0   \n",
      "2   33  970  308  101    1    1  436  0.0  1.0  10.10  0.30  0.000  2.5  0.0   \n",
      "3   70   86  360   14    1    0    0  1.0  0.0   0.78  0.06  0.000  0.0  0.0   \n",
      "4    3   21  285   73    1    0   93  0.0  0.0  14.29  0.00  0.667  0.0  0.0   \n",
      "\n",
      "      fo        cs          pi class  \n",
      "0  0.000  0.111111    0.094985  fake  \n",
      "1  0.000  0.206826  230.412857  fake  \n",
      "2  0.056  0.572174   43.569939  fake  \n",
      "3  0.000  1.000000    5.859799  fake  \n",
      "4  0.000  0.300494    0.126019  fake  \n"
     ]
    }
   ],
   "source": [
    "\n",
    "print(df.head(5))"
   ]
  },
  {
   "cell_type": "markdown",
   "id": "caad024d",
   "metadata": {},
   "source": [
    "# Q8: Print the last 5 rows"
   ]
  },
  {
   "cell_type": "code",
   "execution_count": 36,
   "id": "39d40478",
   "metadata": {},
   "outputs": [
    {
     "name": "stdout",
     "output_type": "stream",
     "text": [
      "        pos   flw   flg   bl  pic  lin   cl        cz     ni        erl   erc  \\\n",
      "65321    13   145   642    0    1    0    7  0.461538  0.000  14.270000  0.58   \n",
      "65322   652  3000  1300  146    1    1  384  0.000000  0.389   8.520000  0.13   \n",
      "65323  1500  3700  3200  147    1    1  129  0.000000  0.111   9.390000  0.31   \n",
      "65324   329  1500  1800  218    1    1  290  0.055556  0.000   6.350000  0.26   \n",
      "65325   206   659   608   27    1    0   77  0.000000  0.333  25.549999  0.53   \n",
      "\n",
      "          lt     hc   pr     fo        cs           pi class  \n",
      "65321  0.000  0.077  0.0  0.000  0.192308  1745.291260  real  \n",
      "65322  0.000  1.611  0.0  0.000  0.169917    54.629120  real  \n",
      "65323  0.722  0.000  0.0  0.056  0.058908   129.802048  real  \n",
      "65324  0.222  0.500  0.0  0.000  0.103174    53.402840  real  \n",
      "65325  0.222  0.222  0.0  0.167  0.017505   604.981445  real  \n"
     ]
    }
   ],
   "source": [
    "\n",
    "print(df.tail(5))"
   ]
  },
  {
   "cell_type": "markdown",
   "id": "4b8b1367",
   "metadata": {},
   "source": [
    "# Q9: Print the total number of null values"
   ]
  },
  {
   "cell_type": "code",
   "execution_count": 37,
   "id": "798bd987",
   "metadata": {},
   "outputs": [
    {
     "name": "stdout",
     "output_type": "stream",
     "text": [
      "Total number of null values: 0\n"
     ]
    }
   ],
   "source": [
    "\n",
    "total_null_values = df.isnull().sum().sum()\n",
    "\n",
    "print(\"Total number of null values:\", total_null_values)"
   ]
  },
  {
   "cell_type": "markdown",
   "id": "05ca8a46",
   "metadata": {},
   "source": [
    "# Q10: Print the rows that has duplicate values"
   ]
  },
  {
   "cell_type": "code",
   "execution_count": 38,
   "id": "67133af9",
   "metadata": {},
   "outputs": [
    {
     "name": "stdout",
     "output_type": "stream",
     "text": [
      "       pos  flw   flg  bl  pic  lin  cl   cz   ni  erl  erc   lt   hc   pr  \\\n",
      "4118     0    0     0   0    0    0  -1  0.0  0.0  0.0  0.0  0.0  0.0  0.0   \n",
      "4165     0   30   149   0    1    0   0  0.0  0.0  0.0  0.0  0.0  0.0  0.0   \n",
      "5812     0    0     0   0    0    0  -1  0.0  0.0  0.0  0.0  0.0  0.0  0.0   \n",
      "6500     0    0     0   0    0    0  -1  0.0  0.0  0.0  0.0  0.0  0.0  0.0   \n",
      "8134     0    0     0   0    0    0  -1  0.0  0.0  0.0  0.0  0.0  0.0  0.0   \n",
      "...    ...  ...   ...  ..  ...  ...  ..  ...  ...  ...  ...  ...  ...  ...   \n",
      "32745    0    0     0   0    0    0  -1  0.0  0.0  0.0  0.0  0.0  0.0  0.0   \n",
      "32747    0   34  7500   0    1    0   0  0.0  0.0  0.0  0.0  0.0  0.0  0.0   \n",
      "32748    0   77  7400   0    1    0   0  0.0  0.0  0.0  0.0  0.0  0.0  0.0   \n",
      "32749    0   70  7300   0    0    0   0  0.0  0.0  0.0  0.0  0.0  0.0  0.0   \n",
      "32764    0    0     0   0    0    0  -1  0.0  0.0  0.0  0.0  0.0  0.0  0.0   \n",
      "\n",
      "        fo   cs   pi class  \n",
      "4118   0.0  0.0  0.0  fake  \n",
      "4165   0.0  1.0  0.0  fake  \n",
      "5812   0.0  0.0  0.0  fake  \n",
      "6500   0.0  0.0  0.0  fake  \n",
      "8134   0.0  0.0  0.0  fake  \n",
      "...    ...  ...  ...   ...  \n",
      "32745  0.0  0.0  0.0  fake  \n",
      "32747  0.0  1.0  0.0  fake  \n",
      "32748  0.0  1.0  0.0  fake  \n",
      "32749  0.0  1.0  0.0  fake  \n",
      "32764  0.0  0.0  0.0  fake  \n",
      "\n",
      "[1082 rows x 18 columns]\n"
     ]
    }
   ],
   "source": [
    "\n",
    "duplicate_rows = df[df.duplicated()]\n",
    "\n",
    "print(duplicate_rows)\n"
   ]
  },
  {
   "cell_type": "markdown",
   "id": "f50aeb22",
   "metadata": {},
   "source": [
    "# Q11: Remove all duplicate values "
   ]
  },
  {
   "cell_type": "code",
   "execution_count": 39,
   "id": "1b27a1c6",
   "metadata": {},
   "outputs": [
    {
     "name": "stdout",
     "output_type": "stream",
     "text": [
      "        pos   flw   flg   bl  pic  lin   cl        cz     ni        erl   erc  \\\n",
      "0        44    48   325   33    1    0   12  0.000000  0.000   0.000000  0.00   \n",
      "1        10    66   321  150    1    0  213  0.000000  1.000  14.390000  1.97   \n",
      "2        33   970   308  101    1    1  436  0.000000  1.000  10.100000  0.30   \n",
      "3        70    86   360   14    1    0    0  1.000000  0.000   0.780000  0.06   \n",
      "4         3    21   285   73    1    0   93  0.000000  0.000  14.290000  0.00   \n",
      "...     ...   ...   ...  ...  ...  ...  ...       ...    ...        ...   ...   \n",
      "65321    13   145   642    0    1    0    7  0.461538  0.000  14.270000  0.58   \n",
      "65322   652  3000  1300  146    1    1  384  0.000000  0.389   8.520000  0.13   \n",
      "65323  1500  3700  3200  147    1    1  129  0.000000  0.111   9.390000  0.31   \n",
      "65324   329  1500  1800  218    1    1  290  0.055556  0.000   6.350000  0.26   \n",
      "65325   206   659   608   27    1    0   77  0.000000  0.333  25.549999  0.53   \n",
      "\n",
      "          lt     hc   pr     fo        cs           pi class  \n",
      "0      0.000  0.000  0.0  0.000  0.111111     0.094985  fake  \n",
      "1      0.000  1.500  0.0  0.000  0.206826   230.412857  fake  \n",
      "2      0.000  2.500  0.0  0.056  0.572174    43.569939  fake  \n",
      "3      0.000  0.000  0.0  0.000  1.000000     5.859799  fake  \n",
      "4      0.667  0.000  0.0  0.000  0.300494     0.126019  fake  \n",
      "...      ...    ...  ...    ...       ...          ...   ...  \n",
      "65321  0.000  0.077  0.0  0.000  0.192308  1745.291260  real  \n",
      "65322  0.000  1.611  0.0  0.000  0.169917    54.629120  real  \n",
      "65323  0.722  0.000  0.0  0.056  0.058908   129.802048  real  \n",
      "65324  0.222  0.500  0.0  0.000  0.103174    53.402840  real  \n",
      "65325  0.222  0.222  0.0  0.167  0.017505   604.981445  real  \n",
      "\n",
      "[64244 rows x 18 columns]\n"
     ]
    }
   ],
   "source": [
    "\n",
    "df_no_duplicates = df.drop_duplicates()\n",
    "\n",
    "print(df_no_duplicates)"
   ]
  },
  {
   "cell_type": "markdown",
   "id": "9c5dad70",
   "metadata": {},
   "source": [
    "# Q12: Print the number of rows and columns contained in the dataset after removing the duplicate values"
   ]
  },
  {
   "cell_type": "code",
   "execution_count": 22,
   "id": "0c655153",
   "metadata": {},
   "outputs": [
    {
     "name": "stdout",
     "output_type": "stream",
     "text": [
      "Number of rows: 64244\n",
      "Number of columns: 18\n"
     ]
    }
   ],
   "source": [
    "\n",
    "df_no_duplicates = df.drop_duplicates()\n",
    "\n",
    "# Print the number of rows and columns after removing duplicates\n",
    "num_rows, num_columns = df_no_duplicates.shape\n",
    "print(\"Number of rows:\", num_rows)\n",
    "print(\"Number of columns:\", num_columns)"
   ]
  },
  {
   "cell_type": "markdown",
   "id": "e158869c",
   "metadata": {},
   "source": [
    "# Q13: Rename all dataset's columns\n",
    "\n",
    "|  Column name  |  New column name  |  Description  |\n",
    "| ----- | -------- | ------- |\n",
    "| pos    | Num_posts        | Number of total posts that the user has ever posted   |\n",
    "| flg    | Num_following    | Number of following                                   |\n",
    "| flr    | Num_followers    | Number of followers                                   |\n",
    "| bl     | Biography_length | Length (number of characters) of the user's biography |\n",
    "| pic    | Picture_availability | Value 0 if the user has no profile picture, or 1 if has |\n",
    "| lin    | Link_availability| Value 0 if the user has no external URL, or 1 if has |\n",
    "| cl     | Average_caption_length | The average number of character of captions in media |\n",
    "| cz     | Caption_zero     | Percentage (0.0 to 1.0) of captions that has almost zero (<=3) length |\n",
    "| ni     | Non_image_percentage | Percentage (0.0 to 1.0) of non-image media. There are three types of media on an Instagram post, i.e. image, video, carousel\n",
    "| erl    | Engagement_rate_like | Engagement rate (ER) is commonly defined as (num likes) divide by (num media) divide by (num followers)\n",
    "| erc    | Engagement_rate_comment | Similar to ER like, but it is for comments |\n",
    "| lt     | Location_tag_percentage | Percentage (0.0 to 1.0) of posts tagged with location |\n",
    "| hc     | Average hashtag count   | Average number of hashtags used in a post |\n",
    "| pr     | Promotional keywords | Average use of promotional keywords in hashtag, i.e. regrann, contest, repost, giveaway, mention, share, give away, quiz |\n",
    "| fo     | Followers keywords | Average use of followers hunter keywords in hashtag, i.e. follow, like, folback, follback, f4f|\n",
    "| cs     | Cosine similarity  | Average cosine similarity of between all pair of two posts a user has |\n",
    "| pi     | Post interval      | Average interval between posts (in hours) |\n",
    "| class  | real_fake          | r (real/authentic user), f (fake user/bought followers) |"
   ]
  },
  {
   "cell_type": "code",
   "execution_count": 23,
   "id": "745fb877",
   "metadata": {},
   "outputs": [
    {
     "name": "stdout",
     "output_type": "stream",
     "text": [
      "       Num_posts   flw  Num_following  Biography_length  Picture_availability  \\\n",
      "0             44    48            325                33                     1   \n",
      "1             10    66            321               150                     1   \n",
      "2             33   970            308               101                     1   \n",
      "3             70    86            360                14                     1   \n",
      "4              3    21            285                73                     1   \n",
      "...          ...   ...            ...               ...                   ...   \n",
      "65321         13   145            642                 0                     1   \n",
      "65322        652  3000           1300               146                     1   \n",
      "65323       1500  3700           3200               147                     1   \n",
      "65324        329  1500           1800               218                     1   \n",
      "65325        206   659            608                27                     1   \n",
      "\n",
      "       Link_availability  Average_caption_length  Caption_zero  \\\n",
      "0                      0                      12      0.000000   \n",
      "1                      0                     213      0.000000   \n",
      "2                      1                     436      0.000000   \n",
      "3                      0                       0      1.000000   \n",
      "4                      0                      93      0.000000   \n",
      "...                  ...                     ...           ...   \n",
      "65321                  0                       7      0.461538   \n",
      "65322                  1                     384      0.000000   \n",
      "65323                  1                     129      0.000000   \n",
      "65324                  1                     290      0.055556   \n",
      "65325                  0                      77      0.000000   \n",
      "\n",
      "       Non_image_percentage  Engagement_rate_like  Engagement_rate_comment  \\\n",
      "0                     0.000              0.000000                     0.00   \n",
      "1                     1.000             14.390000                     1.97   \n",
      "2                     1.000             10.100000                     0.30   \n",
      "3                     0.000              0.780000                     0.06   \n",
      "4                     0.000             14.290000                     0.00   \n",
      "...                     ...                   ...                      ...   \n",
      "65321                 0.000             14.270000                     0.58   \n",
      "65322                 0.389              8.520000                     0.13   \n",
      "65323                 0.111              9.390000                     0.31   \n",
      "65324                 0.000              6.350000                     0.26   \n",
      "65325                 0.333             25.549999                     0.53   \n",
      "\n",
      "       Location_tag_percentage  Average_hashtag_count  Promotional_keywords  \\\n",
      "0                        0.000                  0.000                   0.0   \n",
      "1                        0.000                  1.500                   0.0   \n",
      "2                        0.000                  2.500                   0.0   \n",
      "3                        0.000                  0.000                   0.0   \n",
      "4                        0.667                  0.000                   0.0   \n",
      "...                        ...                    ...                   ...   \n",
      "65321                    0.000                  0.077                   0.0   \n",
      "65322                    0.000                  1.611                   0.0   \n",
      "65323                    0.722                  0.000                   0.0   \n",
      "65324                    0.222                  0.500                   0.0   \n",
      "65325                    0.222                  0.222                   0.0   \n",
      "\n",
      "       Followers_keywords  Cosine_similarity  Post_interval real_fake  \n",
      "0                   0.000           0.111111       0.094985         f  \n",
      "1                   0.000           0.206826     230.412857         f  \n",
      "2                   0.056           0.572174      43.569939         f  \n",
      "3                   0.000           1.000000       5.859799         f  \n",
      "4                   0.000           0.300494       0.126019         f  \n",
      "...                   ...                ...            ...       ...  \n",
      "65321               0.000           0.192308    1745.291260         r  \n",
      "65322               0.000           0.169917      54.629120         r  \n",
      "65323               0.056           0.058908     129.802048         r  \n",
      "65324               0.000           0.103174      53.402840         r  \n",
      "65325               0.167           0.017505     604.981445         r  \n",
      "\n",
      "[65326 rows x 18 columns]\n"
     ]
    }
   ],
   "source": [
    "df = pd.read_csv('instagram_users.csv')\n",
    "\n",
    "# Rename the columns\n",
    "new_column_names = {\n",
    "    'pos': 'Num_posts',\n",
    "    'flg': 'Num_following',\n",
    "    'flr': 'Num_followers',\n",
    "    'bl': 'Biography_length',\n",
    "    'pic': 'Picture_availability',\n",
    "    'lin': 'Link_availability',\n",
    "    'cl': 'Average_caption_length',\n",
    "    'cz': 'Caption_zero',\n",
    "    'ni': 'Non_image_percentage',\n",
    "    'erl': 'Engagement_rate_like',\n",
    "    'erc': 'Engagement_rate_comment',\n",
    "    'lt': 'Location_tag_percentage',\n",
    "    'hc': 'Average_hashtag_count',\n",
    "    'pr': 'Promotional_keywords',\n",
    "    'fo': 'Followers_keywords',\n",
    "    'cs': 'Cosine_similarity',\n",
    "    'pi': 'Post_interval',\n",
    "    'class': 'real_fake'\n",
    "}\n",
    "\n",
    "df = df.rename(columns=new_column_names)\n",
    "print(df)"
   ]
  },
  {
   "cell_type": "markdown",
   "id": "5d787ca2",
   "metadata": {},
   "source": [
    "# Q14: Change the class's values to real and fake"
   ]
  },
  {
   "cell_type": "code",
   "execution_count": 26,
   "id": "1f9b2da6",
   "metadata": {},
   "outputs": [
    {
     "name": "stdout",
     "output_type": "stream",
     "text": [
      "        pos   flw   flg   bl  pic  lin   cl        cz     ni        erl   erc  \\\n",
      "0        44    48   325   33    1    0   12  0.000000  0.000   0.000000  0.00   \n",
      "1        10    66   321  150    1    0  213  0.000000  1.000  14.390000  1.97   \n",
      "2        33   970   308  101    1    1  436  0.000000  1.000  10.100000  0.30   \n",
      "3        70    86   360   14    1    0    0  1.000000  0.000   0.780000  0.06   \n",
      "4         3    21   285   73    1    0   93  0.000000  0.000  14.290000  0.00   \n",
      "...     ...   ...   ...  ...  ...  ...  ...       ...    ...        ...   ...   \n",
      "65321    13   145   642    0    1    0    7  0.461538  0.000  14.270000  0.58   \n",
      "65322   652  3000  1300  146    1    1  384  0.000000  0.389   8.520000  0.13   \n",
      "65323  1500  3700  3200  147    1    1  129  0.000000  0.111   9.390000  0.31   \n",
      "65324   329  1500  1800  218    1    1  290  0.055556  0.000   6.350000  0.26   \n",
      "65325   206   659   608   27    1    0   77  0.000000  0.333  25.549999  0.53   \n",
      "\n",
      "          lt     hc   pr     fo        cs           pi class  \n",
      "0      0.000  0.000  0.0  0.000  0.111111     0.094985  fake  \n",
      "1      0.000  1.500  0.0  0.000  0.206826   230.412857  fake  \n",
      "2      0.000  2.500  0.0  0.056  0.572174    43.569939  fake  \n",
      "3      0.000  0.000  0.0  0.000  1.000000     5.859799  fake  \n",
      "4      0.667  0.000  0.0  0.000  0.300494     0.126019  fake  \n",
      "...      ...    ...  ...    ...       ...          ...   ...  \n",
      "65321  0.000  0.077  0.0  0.000  0.192308  1745.291260  real  \n",
      "65322  0.000  1.611  0.0  0.000  0.169917    54.629120  real  \n",
      "65323  0.722  0.000  0.0  0.056  0.058908   129.802048  real  \n",
      "65324  0.222  0.500  0.0  0.000  0.103174    53.402840  real  \n",
      "65325  0.222  0.222  0.0  0.167  0.017505   604.981445  real  \n",
      "\n",
      "[65326 rows x 18 columns]\n"
     ]
    }
   ],
   "source": [
    "df['class'] = df['class'].replace({'r': 'real', 'f': 'fake'})\n",
    "\n",
    "print(df)"
   ]
  },
  {
   "cell_type": "markdown",
   "id": "39aecf1c",
   "metadata": {},
   "source": [
    "# Q15: Print the total number of each fake accounts and real accounts "
   ]
  },
  {
   "cell_type": "code",
   "execution_count": 25,
   "id": "4bfb149a",
   "metadata": {},
   "outputs": [
    {
     "name": "stdout",
     "output_type": "stream",
     "text": [
      "class\n",
      "fake    32866\n",
      "real    32460\n",
      "Name: count, dtype: int64\n"
     ]
    }
   ],
   "source": [
    "df['class'] = df['class'].replace({'r': 'real', 'f': 'fake'})\n",
    "\n",
    "# Count the number of each class\n",
    "class_counts = df['class'].value_counts()\n",
    "\n",
    "# Print the total number of each class\n",
    "print(class_counts)"
   ]
  },
  {
   "cell_type": "markdown",
   "id": "3b7464bb",
   "metadata": {},
   "source": [
    "# Q16: Print the count, mean, std, min, 25%, 50%, 75% and the max for each column"
   ]
  },
  {
   "cell_type": "code",
   "execution_count": 27,
   "id": "033b7757",
   "metadata": {},
   "outputs": [
    {
     "name": "stdout",
     "output_type": "stream",
     "text": [
      "                pos           flw           flg            bl           pic  \\\n",
      "count  65326.000000  6.532600e+04  65326.000000  65326.000000  65326.000000   \n",
      "mean     176.571227  1.183077e+03   2310.519211     57.497061      0.951765   \n",
      "std      723.470655  2.170802e+04   2592.096104     64.129260      0.214264   \n",
      "min        0.000000  0.000000e+00      0.000000      0.000000      0.000000   \n",
      "25%        6.000000  1.230000e+02    394.000000      0.000000      1.000000   \n",
      "50%       30.000000  3.380000e+02    995.000000     32.000000      1.000000   \n",
      "75%      124.000000  8.170000e+02   3600.000000    110.000000      1.000000   \n",
      "max    76200.000000  3.900000e+06   8800.000000    555.000000      1.000000   \n",
      "\n",
      "                lin            cl            cz            ni           erl  \\\n",
      "count  65326.000000  65326.000000  65326.000000  65326.000000  65326.000000   \n",
      "mean       0.281925    136.520344      0.250012      0.193229     19.146641   \n",
      "std        0.449940    215.714486      0.337891      0.252939    121.047570   \n",
      "min        0.000000     -1.000000      0.000000      0.000000      0.000000   \n",
      "25%        0.000000      8.000000      0.000000      0.000000      2.730000   \n",
      "50%        0.000000     46.000000      0.055556      0.059000      9.450000   \n",
      "75%        1.000000    170.000000      0.444444      0.333000     18.680000   \n",
      "max        1.000000   3644.000000      1.000000      1.000000  26650.000000   \n",
      "\n",
      "                erc            lt            hc            pr            fo  \\\n",
      "count  65326.000000  65326.000000  65326.000000  65326.000000  65326.000000   \n",
      "mean       1.139421      0.208877      0.507796      0.032745      0.052837   \n",
      "std        5.810627      0.300362      1.156921      0.220987      0.519058   \n",
      "min        0.000000      0.000000      0.000000      0.000000      0.000000   \n",
      "25%        0.080000      0.000000      0.000000      0.000000      0.000000   \n",
      "50%        0.440000      0.000000      0.077000      0.000000      0.000000   \n",
      "75%        1.040000      0.333000      0.611000      0.000000      0.000000   \n",
      "max     1009.090027      1.000000     30.000000     20.000000     58.000000   \n",
      "\n",
      "                 cs            pi  \n",
      "count  65326.000000  65326.000000  \n",
      "mean       0.299098    496.475193  \n",
      "std        0.349604    944.905389  \n",
      "min        0.000000      0.000000  \n",
      "25%        0.033327     24.571458  \n",
      "50%        0.136915    183.227943  \n",
      "75%        0.456342    580.771927  \n",
      "max        1.000000  26786.134766  \n"
     ]
    }
   ],
   "source": [
    "df['class'] = df['class'].replace({'r': 'real', 'f': 'fake'})\n",
    "\n",
    "statistics = df.describe()\n",
    "\n",
    "print(statistics)"
   ]
  },
  {
   "cell_type": "code",
   "execution_count": null,
   "id": "89802fdd-db64-4c03-94f8-fb214229c80a",
   "metadata": {},
   "outputs": [],
   "source": []
  }
 ],
 "metadata": {
  "kernelspec": {
   "display_name": "Python 3 (ipykernel)",
   "language": "python",
   "name": "python3"
  },
  "language_info": {
   "codemirror_mode": {
    "name": "ipython",
    "version": 3
   },
   "file_extension": ".py",
   "mimetype": "text/x-python",
   "name": "python",
   "nbconvert_exporter": "python",
   "pygments_lexer": "ipython3",
   "version": "3.11.4"
  }
 },
 "nbformat": 4,
 "nbformat_minor": 5
}
